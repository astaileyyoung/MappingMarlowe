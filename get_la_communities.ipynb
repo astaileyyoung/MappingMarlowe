{
 "cells": [
  {
   "cell_type": "code",
   "execution_count": 2,
   "id": "aa212fef",
   "metadata": {},
   "outputs": [],
   "source": [
    "import requests\n",
    "import pandas as pd\n",
    "from tqdm import tqdm\n",
    "from bs4 import BeautifulSoup"
   ]
  },
  {
   "cell_type": "code",
   "execution_count": 8,
   "id": "114b785f",
   "metadata": {},
   "outputs": [],
   "source": [
    "def process(data):\n",
    "    p = data.text.split(',')[0]\n",
    "    datum = {'name': p,\n",
    "             'latitude': None,\n",
    "             'longitude': None}\n",
    "    try:\n",
    "        l = 'https://en.wikipedia.org' + data.contents[0]['href']\n",
    "        next_page = requests.get(l)\n",
    "        next_content = BeautifulSoup(next_page.content, 'lxml')\n",
    "        lat_long = next_content.find('a', class_='external text').attrs['href']\n",
    "        try:\n",
    "            coord_page = requests.get(lat_long)\n",
    "        except:\n",
    "            lat_long = 'http:' + lat_long\n",
    "            coord_page = requests.get(lat_long)\n",
    "        \n",
    "            coord_content = BeautifulSoup(coord_page.content, 'lxml')\n",
    "            lat = coord_content.find('span', class_='latitude p-latitude')\n",
    "            long = coord_content.find('span', class_='longitude p-longitude')\n",
    "            datum = {'name': p,\n",
    "                     'latitude': lat.text if lat else None,\n",
    "                     'longitude': long.text if long else None}\n",
    "    except:\n",
    "        pass\n",
    "    \n",
    "    return datum"
   ]
  },
  {
   "cell_type": "code",
   "execution_count": 9,
   "id": "aa36ed57",
   "metadata": {},
   "outputs": [
    {
     "name": "stderr",
     "output_type": "stream",
     "text": [
      "100%|███████████████████████████████████████████| 53/53 [00:49<00:00,  1.08it/s]\n"
     ]
    }
   ],
   "source": [
    "url = 'https://en.wikipedia.org/wiki/Category:Census-designated_places_in_Los_Angeles_County,_California'\n",
    "page = requests.get(url)\n",
    "content = BeautifulSoup(page.content, 'lxml')\n",
    "temp = content.find_all('div', class_='mw-category')[-1]\n",
    "eph = temp.find_all('li')\n",
    "data = []\n",
    "for i in tqdm(eph):\n",
    "    datum = process(i)\n",
    "    data.append(datum)\n",
    "df = pd.DataFrame(data)\n",
    "df.to_csv('./data/la_places.csv')"
   ]
  },
  {
   "cell_type": "code",
   "execution_count": null,
   "id": "4e29ccf7",
   "metadata": {},
   "outputs": [],
   "source": []
  }
 ],
 "metadata": {
  "kernelspec": {
   "display_name": "Python 3 (ipykernel)",
   "language": "python",
   "name": "python3"
  },
  "language_info": {
   "codemirror_mode": {
    "name": "ipython",
    "version": 3
   },
   "file_extension": ".py",
   "mimetype": "text/x-python",
   "name": "python",
   "nbconvert_exporter": "python",
   "pygments_lexer": "ipython3",
   "version": "3.9.4"
  }
 },
 "nbformat": 4,
 "nbformat_minor": 5
}
