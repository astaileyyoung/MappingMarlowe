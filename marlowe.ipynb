{
 "cells": [
  {
   "cell_type": "code",
   "execution_count": 27,
   "id": "863e3d4c",
   "metadata": {},
   "outputs": [],
   "source": [
    "import re\n",
    "import traceback\n",
    "from pathlib import Path \n",
    "\n",
    "import spacy\n",
    "import pandas as pd\n",
    "from ebooklib import epub\n",
    "from bs4 import BeautifulSoup, NavigableString"
   ]
  },
  {
   "cell_type": "code",
   "execution_count": 18,
   "id": "9eb09b30",
   "metadata": {},
   "outputs": [],
   "source": [
    "MODEL = 'en_core_web_sm'"
   ]
  },
  {
   "cell_type": "code",
   "execution_count": 19,
   "id": "8b4ffc55",
   "metadata": {},
   "outputs": [],
   "source": [
    "def load_epub(path):\n",
    "    e = epub.read_epub(path)\n",
    "    contents = e.get_items()\n",
    "    xmls = [x.get_content() for x in contents]\n",
    "    texts = [BeautifulSoup(x.decode('utf-8', 'replace'), 'xml') for x in xmls]\n",
    "    t = []\n",
    "    for text in texts:\n",
    "        temp = text.find_all('p')\n",
    "        content = []\n",
    "        for x in temp:\n",
    "            try:\n",
    "                if 'class' in x.attrs.keys():\n",
    "                    if x.attrs['class'] in ['tx', 'cotx1', 'indent', 'nonindent'] and isinstance(x.contents[0], NavigableString):\n",
    "                        content.append(x.contents[0])\n",
    "                else:\n",
    "                    if isinstance(x.contents[0], str) or isinstance(x.contents[0], NavigableString):\n",
    "                        content.append(x.contents[0])\n",
    "\n",
    "            except:\n",
    "                traceback.print_exc()\n",
    "        [t.append(x) for x in content]\n",
    "\n",
    "    return ' '.join(t)\n"
   ]
  },
  {
   "cell_type": "code",
   "execution_count": 20,
   "id": "cc8a5b27",
   "metadata": {},
   "outputs": [],
   "source": [
    "def get_places(src,\n",
    "               model='en_core_web_sm',\n",
    "               ):\n",
    "    nlp = spacy.load(model)\n",
    "\n",
    "    data = []\n",
    "    text = load_epub(src)\n",
    "    doc = nlp(text)\n",
    "    for ent in doc.ents:\n",
    "        if ent.label_ == 'GPE':\n",
    "            datum = {'name': ent.text,\n",
    "                     'entity': ent.label_,\n",
    "                     'source': src}\n",
    "            data.append(datum)\n",
    "    df = pd.DataFrame(data)\n",
    "    return df"
   ]
  },
  {
   "cell_type": "code",
   "execution_count": 24,
   "id": "809b2476",
   "metadata": {},
   "outputs": [],
   "source": [
    "def parse_places(df,\n",
    "                 places_path):\n",
    "    names = list(set(df['name'].values))\n",
    "    places = pd.read_csv(places_path, index_col=0)\n",
    "\n",
    "    data = []\n",
    "    for name in names:\n",
    "        locations = places[places['name'].str.contains(fr'^{name}\\Z',\n",
    "                                                       flags=re.IGNORECASE)]\n",
    "        if locations.shape[0] > 0:\n",
    "            lat = locations.iloc[0]['latitude']\n",
    "            long = locations.iloc[0]['longitude']\n",
    "            temp = df[df['name'] == name]\n",
    "            datum = {'name': name,\n",
    "                     'count': temp.shape[0],\n",
    "                     'latitude': lat,\n",
    "                     'longitude': long}\n",
    "            data.append(datum)\n",
    "    parsed = pd.DataFrame(data)\n",
    "    return parsed"
   ]
  },
  {
   "cell_type": "code",
   "execution_count": 22,
   "id": "07ca95d1",
   "metadata": {},
   "outputs": [
    {
     "data": {
      "text/html": [
       "<div>\n",
       "<style scoped>\n",
       "    .dataframe tbody tr th:only-of-type {\n",
       "        vertical-align: middle;\n",
       "    }\n",
       "\n",
       "    .dataframe tbody tr th {\n",
       "        vertical-align: top;\n",
       "    }\n",
       "\n",
       "    .dataframe thead th {\n",
       "        text-align: right;\n",
       "    }\n",
       "</style>\n",
       "<table border=\"1\" class=\"dataframe\">\n",
       "  <thead>\n",
       "    <tr style=\"text-align: right;\">\n",
       "      <th></th>\n",
       "      <th>name</th>\n",
       "      <th>entity</th>\n",
       "      <th>source</th>\n",
       "    </tr>\n",
       "  </thead>\n",
       "  <tbody>\n",
       "    <tr>\n",
       "      <th>0</th>\n",
       "      <td>Los Angeles</td>\n",
       "      <td>GPE</td>\n",
       "      <td>sources/omnibus.epub</td>\n",
       "    </tr>\n",
       "    <tr>\n",
       "      <th>1</th>\n",
       "      <td>Chicago</td>\n",
       "      <td>GPE</td>\n",
       "      <td>sources/omnibus.epub</td>\n",
       "    </tr>\n",
       "    <tr>\n",
       "      <th>2</th>\n",
       "      <td>England</td>\n",
       "      <td>GPE</td>\n",
       "      <td>sources/omnibus.epub</td>\n",
       "    </tr>\n",
       "    <tr>\n",
       "      <th>3</th>\n",
       "      <td>Raymond</td>\n",
       "      <td>GPE</td>\n",
       "      <td>sources/omnibus.epub</td>\n",
       "    </tr>\n",
       "    <tr>\n",
       "      <th>4</th>\n",
       "      <td>London</td>\n",
       "      <td>GPE</td>\n",
       "      <td>sources/omnibus.epub</td>\n",
       "    </tr>\n",
       "  </tbody>\n",
       "</table>\n",
       "</div>"
      ],
      "text/plain": [
       "          name entity                source\n",
       "0  Los Angeles    GPE  sources/omnibus.epub\n",
       "1      Chicago    GPE  sources/omnibus.epub\n",
       "2      England    GPE  sources/omnibus.epub\n",
       "3      Raymond    GPE  sources/omnibus.epub\n",
       "4       London    GPE  sources/omnibus.epub"
      ]
     },
     "execution_count": 22,
     "metadata": {},
     "output_type": "execute_result"
    }
   ],
   "source": [
    "book_files = [x for x in Path('./sources').iterdir()]\n",
    "\n",
    "dfs = []\n",
    "for book_file in book_files:\n",
    "    df = get_places(str(book_file),\n",
    "                    model=MODEL)\n",
    "    dfs.append(df)\n",
    "df = pd.concat(dfs)\n",
    "df.head()"
   ]
  },
  {
   "cell_type": "code",
   "execution_count": 23,
   "id": "4226a91f",
   "metadata": {},
   "outputs": [],
   "source": [
    "df.to_csv('./data/corpus_places.csv')"
   ]
  },
  {
   "cell_type": "code",
   "execution_count": 28,
   "id": "89d811e2",
   "metadata": {},
   "outputs": [
    {
     "data": {
      "text/html": [
       "<div>\n",
       "<style scoped>\n",
       "    .dataframe tbody tr th:only-of-type {\n",
       "        vertical-align: middle;\n",
       "    }\n",
       "\n",
       "    .dataframe tbody tr th {\n",
       "        vertical-align: top;\n",
       "    }\n",
       "\n",
       "    .dataframe thead th {\n",
       "        text-align: right;\n",
       "    }\n",
       "</style>\n",
       "<table border=\"1\" class=\"dataframe\">\n",
       "  <thead>\n",
       "    <tr style=\"text-align: right;\">\n",
       "      <th></th>\n",
       "      <th>name</th>\n",
       "      <th>count</th>\n",
       "      <th>latitude</th>\n",
       "      <th>longitude</th>\n",
       "    </tr>\n",
       "  </thead>\n",
       "  <tbody>\n",
       "    <tr>\n",
       "      <th>0</th>\n",
       "      <td>Beverly Hills</td>\n",
       "      <td>26</td>\n",
       "      <td>34.073619</td>\n",
       "      <td>-118.400356</td>\n",
       "    </tr>\n",
       "    <tr>\n",
       "      <th>1</th>\n",
       "      <td>Pasadena</td>\n",
       "      <td>23</td>\n",
       "      <td>34.147786</td>\n",
       "      <td>-118.144517</td>\n",
       "    </tr>\n",
       "    <tr>\n",
       "      <th>2</th>\n",
       "      <td>Los Angeles</td>\n",
       "      <td>51</td>\n",
       "      <td>34.052233</td>\n",
       "      <td>-118.243686</td>\n",
       "    </tr>\n",
       "    <tr>\n",
       "      <th>3</th>\n",
       "      <td>Descanso</td>\n",
       "      <td>2</td>\n",
       "      <td>32.870000</td>\n",
       "      <td>-116.630000</td>\n",
       "    </tr>\n",
       "    <tr>\n",
       "      <th>4</th>\n",
       "      <td>Santa Rosa</td>\n",
       "      <td>3</td>\n",
       "      <td>38.440467</td>\n",
       "      <td>-122.714431</td>\n",
       "    </tr>\n",
       "  </tbody>\n",
       "</table>\n",
       "</div>"
      ],
      "text/plain": [
       "            name  count   latitude   longitude\n",
       "0  Beverly Hills     26  34.073619 -118.400356\n",
       "1       Pasadena     23  34.147786 -118.144517\n",
       "2    Los Angeles     51  34.052233 -118.243686\n",
       "3       Descanso      2  32.870000 -116.630000\n",
       "4     Santa Rosa      3  38.440467 -122.714431"
      ]
     },
     "execution_count": 28,
     "metadata": {},
     "output_type": "execute_result"
    }
   ],
   "source": [
    "df_parsed = parse_places(df,\n",
    "                         './data/places.csv')\n",
    "df_parsed.head()"
   ]
  },
  {
   "cell_type": "code",
   "execution_count": 29,
   "id": "62734136",
   "metadata": {},
   "outputs": [],
   "source": [
    "df_parsed.to_csv('./data/marlowe.csv')"
   ]
  }
 ],
 "metadata": {
  "kernelspec": {
   "display_name": "Python 3 (ipykernel)",
   "language": "python",
   "name": "python3"
  },
  "language_info": {
   "codemirror_mode": {
    "name": "ipython",
    "version": 3
   },
   "file_extension": ".py",
   "mimetype": "text/x-python",
   "name": "python",
   "nbconvert_exporter": "python",
   "pygments_lexer": "ipython3",
   "version": "3.9.4"
  }
 },
 "nbformat": 4,
 "nbformat_minor": 5
}
